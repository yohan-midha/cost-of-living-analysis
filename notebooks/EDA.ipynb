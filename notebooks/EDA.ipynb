{
 "cells": [
  {
   "cell_type": "code",
   "execution_count": 17,
   "id": "55423a6f-786c-473d-aafe-a3b8062bf892",
   "metadata": {},
   "outputs": [
    {
     "name": "stderr",
     "output_type": "stream",
     "text": [
      "Matplotlib is building the font cache; this may take a moment.\n"
     ]
    }
   ],
   "source": [
    "import pandas as pd\n",
    "import numpy as np\n",
    "import matplotlib.pyplot as plt\n"
   ]
  },
  {
   "cell_type": "code",
   "execution_count": null,
   "id": "0c081cea-b20f-465a-9563-58cdc350b2e4",
   "metadata": {},
   "outputs": [],
   "source": []
  },
  {
   "cell_type": "code",
   "execution_count": 24,
   "id": "ca57cd7c-d82b-4144-9f52-4184a66a80f1",
   "metadata": {},
   "outputs": [],
   "source": [
    "# read data as dataframes\n",
    "\n",
    "df_cpi = pd.read_excel(\"../data/cpi.xlsx\")\n",
    "df_rates = pd.read_excel(\"../data/cash-rate.xlsx\")\n",
    "df_retail = pd.read_excel(\"../data/retail-trade.xlsx\")\n"
   ]
  },
  {
   "cell_type": "code",
   "execution_count": 25,
   "id": "da224388-db66-4703-b438-fd1a72445bc0",
   "metadata": {},
   "outputs": [
    {
     "name": "stdout",
     "output_type": "stream",
     "text": [
      "<class 'pandas.core.frame.DataFrame'>\n",
      "RangeIndex: 83 entries, 0 to 82\n",
      "Data columns (total 12 columns):\n",
      " #   Column       Non-Null Count  Dtype  \n",
      "---  ------       --------------  -----  \n",
      " 0   Unnamed: 0   73 non-null     object \n",
      " 1   Unnamed: 1   3 non-null      object \n",
      " 2   Unnamed: 2   0 non-null      float64\n",
      " 3   Unnamed: 3   73 non-null     object \n",
      " 4   Unnamed: 4   72 non-null     object \n",
      " 5   Unnamed: 5   72 non-null     object \n",
      " 6   Unnamed: 6   72 non-null     object \n",
      " 7   Unnamed: 7   72 non-null     object \n",
      " 8   Unnamed: 8   72 non-null     object \n",
      " 9   Unnamed: 9   72 non-null     object \n",
      " 10  Unnamed: 10  72 non-null     object \n",
      " 11  Unnamed: 11  72 non-null     object \n",
      "dtypes: float64(1), object(11)\n",
      "memory usage: 7.9+ KB\n",
      "<class 'pandas.core.frame.DataFrame'>\n",
      "RangeIndex: 679 entries, 0 to 678\n",
      "Data columns (total 16 columns):\n",
      " #   Column                                         Non-Null Count  Dtype \n",
      "---  ------                                         --------------  ----- \n",
      " 0   F1.1 INTEREST RATES AND YIELDS – MONEY MARKET  677 non-null    object\n",
      " 1   Unnamed: 1                                     423 non-null    object\n",
      " 2   Unnamed: 2                                     594 non-null    object\n",
      " 3   Unnamed: 3                                     150 non-null    object\n",
      " 4   Unnamed: 4                                     150 non-null    object\n",
      " 5   Unnamed: 5                                     150 non-null    object\n",
      " 6   Unnamed: 6                                     115 non-null    object\n",
      " 7   Unnamed: 7                                     400 non-null    object\n",
      " 8   Unnamed: 8                                     677 non-null    object\n",
      " 9   Unnamed: 9                                     400 non-null    object\n",
      " 10  Unnamed: 10                                    265 non-null    object\n",
      " 11  Unnamed: 11                                    265 non-null    object\n",
      " 12  Unnamed: 12                                    265 non-null    object\n",
      " 13  Unnamed: 13                                    147 non-null    object\n",
      " 14  Unnamed: 14                                    147 non-null    object\n",
      " 15  Unnamed: 15                                    109 non-null    object\n",
      "dtypes: object(16)\n",
      "memory usage: 85.0+ KB\n",
      "<class 'pandas.core.frame.DataFrame'>\n",
      "RangeIndex: 33 entries, 0 to 32\n",
      "Data columns (total 12 columns):\n",
      " #   Column       Non-Null Count  Dtype  \n",
      "---  ------       --------------  -----  \n",
      " 0   Unnamed: 0   23 non-null     object \n",
      " 1   Unnamed: 1   3 non-null      object \n",
      " 2   Unnamed: 2   0 non-null      float64\n",
      " 3   Unnamed: 3   23 non-null     object \n",
      " 4   Unnamed: 4   22 non-null     object \n",
      " 5   Unnamed: 5   22 non-null     object \n",
      " 6   Unnamed: 6   22 non-null     object \n",
      " 7   Unnamed: 7   22 non-null     object \n",
      " 8   Unnamed: 8   22 non-null     object \n",
      " 9   Unnamed: 9   22 non-null     object \n",
      " 10  Unnamed: 10  22 non-null     object \n",
      " 11  Unnamed: 11  22 non-null     object \n",
      "dtypes: float64(1), object(11)\n",
      "memory usage: 3.2+ KB\n"
     ]
    }
   ],
   "source": [
    "# General Inspection\n",
    "df_cpi.head()\n",
    "df_cpi.info()\n",
    "df_rates.head()\n",
    "df_rates.info()\n",
    "df_retail.head()\n",
    "df_retail.info()"
   ]
  },
  {
   "cell_type": "code",
   "execution_count": null,
   "id": "e211ab3a-67a5-4a65-bdbe-7c636e907172",
   "metadata": {},
   "outputs": [],
   "source": []
  },
  {
   "cell_type": "code",
   "execution_count": null,
   "id": "e4fdc50b-9336-4f27-8b4e-bd8196330ef0",
   "metadata": {},
   "outputs": [],
   "source": []
  }
 ],
 "metadata": {
  "kernelspec": {
   "display_name": "Python 3 (ipykernel)",
   "language": "python",
   "name": "python3"
  },
  "language_info": {
   "codemirror_mode": {
    "name": "ipython",
    "version": 3
   },
   "file_extension": ".py",
   "mimetype": "text/x-python",
   "name": "python",
   "nbconvert_exporter": "python",
   "pygments_lexer": "ipython3",
   "version": "3.13.2"
  }
 },
 "nbformat": 4,
 "nbformat_minor": 5
}
