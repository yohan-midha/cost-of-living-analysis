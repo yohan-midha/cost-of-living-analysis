{
 "cells": [
  {
   "cell_type": "code",
   "execution_count": 75,
   "id": "55423a6f-786c-473d-aafe-a3b8062bf892",
   "metadata": {},
   "outputs": [],
   "source": [
    "import pandas as pd\n",
    "import numpy as np\n",
    "import matplotlib.pyplot as plt\n"
   ]
  },
  {
   "cell_type": "code",
   "execution_count": null,
   "id": "0c081cea-b20f-465a-9563-58cdc350b2e4",
   "metadata": {},
   "outputs": [],
   "source": []
  },
  {
   "cell_type": "code",
   "execution_count": 86,
   "id": "ca57cd7c-d82b-4144-9f52-4184a66a80f1",
   "metadata": {},
   "outputs": [],
   "source": [
    "# read data as dataframes\n",
    "\n",
    "df_cpi = pd.read_excel(\"../data/cpi.xlsx\", sheet_name = \"Data1\")\n",
    "df_rates = pd.read_excel(\"../data/cash-rate.xlsx\")\n",
    "df_retail = pd.read_excel(\"../data/retail-trade.xlsx\")\n"
   ]
  },
  {
   "cell_type": "code",
   "execution_count": 89,
   "id": "da224388-db66-4703-b438-fd1a72445bc0",
   "metadata": {},
   "outputs": [
    {
     "name": "stdout",
     "output_type": "stream",
     "text": [
      "Index(['Date', 'overall_monthly_cpi',\n",
      "       'annual_percentage_change_from_current_month'],\n",
      "      dtype='object')\n"
     ]
    }
   ],
   "source": [
    "# General organising of the CPI Data set\n",
    "\n",
    "df_cpi.rename(columns={'Unnamed: 0': 'Date'}, inplace=True)\n",
    "df_cpi.rename(columns = {'Index Numbers ;  All groups CPI ;  Australia ;' : 'overall_monthly_cpi'}, inplace = True)\n",
    "df_cpi.rename(columns = {'Percentage Change from Corresponding Month of Previous Year ;  All groups CPI ;  Australia ;' : 'annual_percentage_change_from_current_month'}, inplace = True)\n",
    "\n",
    "#rows 1- 10 are irrelevant\n",
    "df_cpi = df_cpi.iloc[10:].reset_index(drop=True) \n",
    "\n",
    "#Convert date to actual date format\n",
    "df_cpi['Date'] = pd.to_datetime(df_cpi['Date'])\n",
    "\n",
    "# Building clean data set of relevant data\n",
    "cpi_tidy = df_cpi[['Date', 'overall_monthly_cpi', 'annual_percentage_change_from_current_month']]\n",
    "\n",
    "print(cpi_tidy.columns)"
   ]
  },
  {
   "cell_type": "code",
   "execution_count": null,
   "id": "e211ab3a-67a5-4a65-bdbe-7c636e907172",
   "metadata": {},
   "outputs": [],
   "source": []
  },
  {
   "cell_type": "code",
   "execution_count": 91,
   "id": "e4fdc50b-9336-4f27-8b4e-bd8196330ef0",
   "metadata": {},
   "outputs": [
    {
     "data": {
      "text/html": [
       "<div>\n",
       "<style scoped>\n",
       "    .dataframe tbody tr th:only-of-type {\n",
       "        vertical-align: middle;\n",
       "    }\n",
       "\n",
       "    .dataframe tbody tr th {\n",
       "        vertical-align: top;\n",
       "    }\n",
       "\n",
       "    .dataframe thead th {\n",
       "        text-align: right;\n",
       "    }\n",
       "</style>\n",
       "<table border=\"1\" class=\"dataframe\">\n",
       "  <thead>\n",
       "    <tr style=\"text-align: right;\">\n",
       "      <th></th>\n",
       "      <th>Date</th>\n",
       "      <th>overall_monthly_cpi</th>\n",
       "      <th>annual_percentage_change_from_current_month</th>\n",
       "    </tr>\n",
       "  </thead>\n",
       "  <tbody>\n",
       "    <tr>\n",
       "      <th>0</th>\n",
       "      <td>2019-06-01</td>\n",
       "      <td>102.9</td>\n",
       "      <td>1.4</td>\n",
       "    </tr>\n",
       "    <tr>\n",
       "      <th>1</th>\n",
       "      <td>2019-07-01</td>\n",
       "      <td>103.7</td>\n",
       "      <td>1.6</td>\n",
       "    </tr>\n",
       "    <tr>\n",
       "      <th>2</th>\n",
       "      <td>2019-08-01</td>\n",
       "      <td>103.3</td>\n",
       "      <td>1.6</td>\n",
       "    </tr>\n",
       "    <tr>\n",
       "      <th>3</th>\n",
       "      <td>2019-09-01</td>\n",
       "      <td>103.7</td>\n",
       "      <td>1.7</td>\n",
       "    </tr>\n",
       "    <tr>\n",
       "      <th>4</th>\n",
       "      <td>2019-10-01</td>\n",
       "      <td>104.3</td>\n",
       "      <td>1.8</td>\n",
       "    </tr>\n",
       "  </tbody>\n",
       "</table>\n",
       "</div>"
      ],
      "text/plain": [
       "        Date overall_monthly_cpi annual_percentage_change_from_current_month\n",
       "0 2019-06-01               102.9                                         1.4\n",
       "1 2019-07-01               103.7                                         1.6\n",
       "2 2019-08-01               103.3                                         1.6\n",
       "3 2019-09-01               103.7                                         1.7\n",
       "4 2019-10-01               104.3                                         1.8"
      ]
     },
     "execution_count": 91,
     "metadata": {},
     "output_type": "execute_result"
    }
   ],
   "source": [
    "cpi_tidy.head()"
   ]
  },
  {
   "cell_type": "code",
   "execution_count": null,
   "id": "591aeaa6-fcd9-4688-8f7f-d0a8feaaff0d",
   "metadata": {},
   "outputs": [],
   "source": [
    "\n"
   ]
  },
  {
   "cell_type": "code",
   "execution_count": null,
   "id": "f1e9691f-a489-4fe6-9144-7ade840b2511",
   "metadata": {},
   "outputs": [],
   "source": []
  }
 ],
 "metadata": {
  "kernelspec": {
   "display_name": "Python 3 (ipykernel)",
   "language": "python",
   "name": "python3"
  },
  "language_info": {
   "codemirror_mode": {
    "name": "ipython",
    "version": 3
   },
   "file_extension": ".py",
   "mimetype": "text/x-python",
   "name": "python",
   "nbconvert_exporter": "python",
   "pygments_lexer": "ipython3",
   "version": "3.13.2"
  }
 },
 "nbformat": 4,
 "nbformat_minor": 5
}
